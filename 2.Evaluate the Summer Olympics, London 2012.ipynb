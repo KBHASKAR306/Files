{
 "cells": [
  {
   "cell_type": "code",
   "execution_count": 1,
   "metadata": {},
   "outputs": [],
   "source": [
    "#Import the necessary library\n",
    "import numpy as np"
   ]
  },
  {
   "cell_type": "code",
   "execution_count": 2,
   "metadata": {},
   "outputs": [],
   "source": [
    "#Manually add the Summer Olympics, London 2012 dataset as arrays\n",
    "np_olympic_country = np.array([\"Great Britain\",\"China\", \"Russia\",\"United States\",\"Korea\",\"Japan\",\"Germany\"])\n",
    "np_olympic_country_Gold = np.array([29,38,24,46,13,7,11])\n",
    "np_olympic_country_Silver = np.array([17,28,25,28,8,14,11])\n",
    "np_olympic_country_Bronze = np.array([19,22,32,29,7,17,14])"
   ]
  },
  {
   "cell_type": "code",
   "execution_count": 3,
   "metadata": {},
   "outputs": [],
   "source": [
    "#Use the argmax() method to find the highest number of gold medals\n",
    "max_np_olympic_country_Gold = np_olympic_country_Gold.argmax()"
   ]
  },
  {
   "cell_type": "code",
   "execution_count": 4,
   "metadata": {},
   "outputs": [
    {
     "name": "stdout",
     "output_type": "stream",
     "text": [
      "United States\n"
     ]
    }
   ],
   "source": [
    "#Print the name of the country\n",
    "country_max_np_olympic_country_Gold = np_olympic_country[max_np_olympic_country_Gold]\n",
    "print(country_max_np_olympic_country_Gold)"
   ]
  },
  {
   "cell_type": "code",
   "execution_count": 5,
   "metadata": {},
   "outputs": [
    {
     "name": "stdout",
     "output_type": "stream",
     "text": [
      "['Great Britain' 'China' 'Russia' 'United States']\n"
     ]
    }
   ],
   "source": [
    "#Use Boolean indexing technique to find the required output\n",
    "print(np_olympic_country[np_olympic_country_Gold>20])"
   ]
  },
  {
   "cell_type": "code",
   "execution_count": 6,
   "metadata": {},
   "outputs": [
    {
     "name": "stdout",
     "output_type": "stream",
     "text": [
      "Great Britain, gold_medal 29, Total medals 65\n",
      "China, gold_medal 38, Total medals 88\n",
      "Russia, gold_medal 24, Total medals 81\n",
      "United States, gold_medal 46, Total medals 103\n",
      "Korea, gold_medal 13, Total medals 28\n",
      "Japan, gold_medal 7, Total medals 38\n",
      "Germany, gold_medal 11, Total medals 36\n"
     ]
    }
   ],
   "source": [
    "#Use a for loop to create the required output\n",
    "for i in range(len(np_olympic_country)):\n",
    "    gold_medal = np_olympic_country_Gold[i]\n",
    "    country = np_olympic_country[i]\n",
    "    total_medal = np_olympic_country_Gold[i] + np_olympic_country_Silver[i] + np_olympic_country_Bronze[i]\n",
    "    print(\"{}, gold_medal {}, Total medals {}\".format(country,gold_medal,total_medal))"
   ]
  },
  {
   "cell_type": "code",
   "execution_count": null,
   "metadata": {},
   "outputs": [],
   "source": []
  }
 ],
 "metadata": {
  "kernelspec": {
   "display_name": "Python 3",
   "language": "python",
   "name": "python3"
  },
  "language_info": {
   "codemirror_mode": {
    "name": "ipython",
    "version": 3
   },
   "file_extension": ".py",
   "mimetype": "text/x-python",
   "name": "python",
   "nbconvert_exporter": "python",
   "pygments_lexer": "ipython3",
   "version": "3.7.4"
  }
 },
 "nbformat": 4,
 "nbformat_minor": 2
}
