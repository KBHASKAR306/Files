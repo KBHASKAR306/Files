{
 "cells": [
  {
   "cell_type": "markdown",
   "id": "a35eb598",
   "metadata": {},
   "source": [
    "### Import Keras and Packages"
   ]
  },
  {
   "cell_type": "code",
   "execution_count": 1,
   "id": "01e19f41",
   "metadata": {},
   "outputs": [],
   "source": [
    "import keras\n",
    "from keras.models import Sequential\n",
    "from keras.layers import Dense\n",
    "from keras.utils import to_categorical"
   ]
  },
  {
   "cell_type": "code",
   "execution_count": 2,
   "id": "35ee2cdd",
   "metadata": {},
   "outputs": [],
   "source": [
    "from keras.layers.convolutional import Conv2D # to add convolutional layers\n",
    "from keras.layers.convolutional import MaxPooling2D # to add pooling layers\n",
    "from keras.layers import Flatten # to flatten data for fully connected layers"
   ]
  },
  {
   "cell_type": "markdown",
   "id": "57e1b7a3",
   "metadata": {},
   "source": [
    "### Convolutional Layer with One set of convolutional and pooling layers"
   ]
  },
  {
   "cell_type": "code",
   "execution_count": 3,
   "id": "b13d4d19",
   "metadata": {},
   "outputs": [],
   "source": [
    "# import data\n",
    "from keras.datasets import mnist\n",
    "\n",
    "# load data\n",
    "(X_train, y_train), (X_test, y_test) = mnist.load_data()\n",
    "\n",
    "# reshape to be [samples][pixels][width][height]\n",
    "X_train = X_train.reshape(X_train.shape[0], 28, 28, 1).astype('float32')\n",
    "X_test = X_test.reshape(X_test.shape[0], 28, 28, 1).astype('float32')"
   ]
  },
  {
   "cell_type": "code",
   "execution_count": 4,
   "id": "52358374",
   "metadata": {},
   "outputs": [],
   "source": [
    "X_train = X_train / 255 # normalize training data\n",
    "X_test = X_test / 255 # normalize test data"
   ]
  },
  {
   "cell_type": "code",
   "execution_count": 5,
   "id": "30a5c5b6",
   "metadata": {},
   "outputs": [],
   "source": [
    "y_train = to_categorical(y_train)\n",
    "y_test = to_categorical(y_test)\n",
    "\n",
    "num_classes = y_test.shape[1] # number of categories"
   ]
  },
  {
   "cell_type": "code",
   "execution_count": 6,
   "id": "882f109b",
   "metadata": {},
   "outputs": [],
   "source": [
    "def convolutional_model():\n",
    "    \n",
    "    # create model\n",
    "    model = Sequential()\n",
    "    model.add(Conv2D(16, (5, 5), strides=(1, 1), activation='relu', input_shape=(28, 28, 1)))\n",
    "    model.add(MaxPooling2D(pool_size=(2, 2), strides=(2, 2)))\n",
    "    \n",
    "    model.add(Flatten())\n",
    "    model.add(Dense(100, activation='relu'))\n",
    "    model.add(Dense(num_classes, activation='softmax'))\n",
    "    \n",
    "    # compile model\n",
    "    model.compile(optimizer='adam', loss='categorical_crossentropy', metrics=['accuracy'])\n",
    "    return model"
   ]
  },
  {
   "cell_type": "code",
   "execution_count": 7,
   "id": "4ef8149c",
   "metadata": {},
   "outputs": [
    {
     "name": "stderr",
     "output_type": "stream",
     "text": [
      "2022-07-15 15:06:22.066728: W tensorflow/stream_executor/platform/default/dso_loader.cc:64] Could not load dynamic library 'libcuda.so.1'; dlerror: libcuda.so.1: cannot open shared object file: No such file or directory\n",
      "2022-07-15 15:06:22.066816: W tensorflow/stream_executor/cuda/cuda_driver.cc:269] failed call to cuInit: UNKNOWN ERROR (303)\n",
      "2022-07-15 15:06:22.066875: I tensorflow/stream_executor/cuda/cuda_diagnostics.cc:156] kernel driver does not appear to be running on this host (ihubkbhaskar-Vostro-3681): /proc/driver/nvidia/version does not exist\n",
      "2022-07-15 15:06:22.073286: I tensorflow/core/platform/cpu_feature_guard.cc:193] This TensorFlow binary is optimized with oneAPI Deep Neural Network Library (oneDNN) to use the following CPU instructions in performance-critical operations:  AVX2 FMA\n",
      "To enable them in other operations, rebuild TensorFlow with the appropriate compiler flags.\n",
      "2022-07-15 15:06:22.450561: W tensorflow/core/framework/cpu_allocator_impl.cc:82] Allocation of 188160000 exceeds 10% of free system memory.\n"
     ]
    },
    {
     "name": "stdout",
     "output_type": "stream",
     "text": [
      "Epoch 1/10\n"
     ]
    },
    {
     "name": "stderr",
     "output_type": "stream",
     "text": [
      "2022-07-15 15:06:29.601260: W tensorflow/core/framework/cpu_allocator_impl.cc:82] Allocation of 31360000 exceeds 10% of free system memory.\n"
     ]
    },
    {
     "name": "stdout",
     "output_type": "stream",
     "text": [
      "300/300 - 7s - loss: 0.2809 - accuracy: 0.9225 - val_loss: 0.0902 - val_accuracy: 0.9742 - 7s/epoch - 22ms/step\n",
      "Epoch 2/10\n",
      "300/300 - 5s - loss: 0.0786 - accuracy: 0.9766 - val_loss: 0.0590 - val_accuracy: 0.9814 - 5s/epoch - 18ms/step\n",
      "Epoch 3/10\n",
      "300/300 - 5s - loss: 0.0553 - accuracy: 0.9833 - val_loss: 0.0457 - val_accuracy: 0.9850 - 5s/epoch - 17ms/step\n",
      "Epoch 4/10\n",
      "300/300 - 5s - loss: 0.0417 - accuracy: 0.9879 - val_loss: 0.0453 - val_accuracy: 0.9852 - 5s/epoch - 17ms/step\n",
      "Epoch 5/10\n",
      "300/300 - 5s - loss: 0.0338 - accuracy: 0.9895 - val_loss: 0.0405 - val_accuracy: 0.9863 - 5s/epoch - 17ms/step\n",
      "Epoch 6/10\n",
      "300/300 - 5s - loss: 0.0287 - accuracy: 0.9915 - val_loss: 0.0435 - val_accuracy: 0.9867 - 5s/epoch - 17ms/step\n",
      "Epoch 7/10\n",
      "300/300 - 5s - loss: 0.0229 - accuracy: 0.9932 - val_loss: 0.0390 - val_accuracy: 0.9876 - 5s/epoch - 17ms/step\n",
      "Epoch 8/10\n",
      "300/300 - 5s - loss: 0.0198 - accuracy: 0.9940 - val_loss: 0.0360 - val_accuracy: 0.9881 - 5s/epoch - 17ms/step\n",
      "Epoch 9/10\n",
      "300/300 - 5s - loss: 0.0168 - accuracy: 0.9951 - val_loss: 0.0425 - val_accuracy: 0.9873 - 5s/epoch - 17ms/step\n",
      "Epoch 10/10\n",
      "300/300 - 5s - loss: 0.0144 - accuracy: 0.9956 - val_loss: 0.0430 - val_accuracy: 0.9863 - 5s/epoch - 17ms/step\n"
     ]
    },
    {
     "name": "stderr",
     "output_type": "stream",
     "text": [
      "2022-07-15 15:07:16.201716: W tensorflow/core/framework/cpu_allocator_impl.cc:82] Allocation of 31360000 exceeds 10% of free system memory.\n"
     ]
    },
    {
     "name": "stdout",
     "output_type": "stream",
     "text": [
      "Accuracy: 0.986299991607666 \n",
      "Error: 1.3700008392333984\n"
     ]
    }
   ],
   "source": [
    "# build the model\n",
    "model = convolutional_model()\n",
    "\n",
    "# fit the model\n",
    "model.fit(X_train, y_train, validation_data=(X_test, y_test), epochs=10, batch_size=200, verbose=2)\n",
    "\n",
    "# evaluate the model\n",
    "scores = model.evaluate(X_test, y_test, verbose=0)\n",
    "print(\"Accuracy: {} \\nError: {}\".format(scores[1], 100-scores[1]*100))"
   ]
  },
  {
   "cell_type": "markdown",
   "id": "14c16ead",
   "metadata": {},
   "source": [
    "### Convolutional Layer with two sets of convolutional and pooling layers"
   ]
  },
  {
   "cell_type": "code",
   "execution_count": 8,
   "id": "bc12d702",
   "metadata": {},
   "outputs": [],
   "source": [
    "def convolutional_model():\n",
    "    \n",
    "    # create model\n",
    "    model = Sequential()\n",
    "    model.add(Conv2D(16, (5, 5), activation='relu', input_shape=(28, 28, 1)))\n",
    "    model.add(MaxPooling2D(pool_size=(2, 2), strides=(2, 2)))\n",
    "    \n",
    "    model.add(Conv2D(8, (2, 2), activation='relu'))\n",
    "    model.add(MaxPooling2D(pool_size=(2, 2), strides=(2, 2)))\n",
    "    \n",
    "    model.add(Flatten())\n",
    "    model.add(Dense(100, activation='relu'))\n",
    "    model.add(Dense(num_classes, activation='softmax'))\n",
    "    \n",
    "    # compile model\n",
    "    model.compile(optimizer='adam', loss='categorical_crossentropy', metrics=['accuracy'])\n",
    "    return model"
   ]
  },
  {
   "cell_type": "code",
   "execution_count": 9,
   "id": "254a51a2",
   "metadata": {},
   "outputs": [
    {
     "name": "stdout",
     "output_type": "stream",
     "text": [
      "Epoch 1/10\n"
     ]
    },
    {
     "name": "stderr",
     "output_type": "stream",
     "text": [
      "2022-07-15 15:16:11.408726: W tensorflow/core/framework/cpu_allocator_impl.cc:82] Allocation of 188160000 exceeds 10% of free system memory.\n",
      "2022-07-15 15:16:17.784954: W tensorflow/core/framework/cpu_allocator_impl.cc:82] Allocation of 31360000 exceeds 10% of free system memory.\n"
     ]
    },
    {
     "name": "stdout",
     "output_type": "stream",
     "text": [
      "300/300 - 7s - loss: 0.4809 - accuracy: 0.8626 - val_loss: 0.1476 - val_accuracy: 0.9565 - 7s/epoch - 22ms/step\n",
      "Epoch 2/10\n",
      "300/300 - 6s - loss: 0.1260 - accuracy: 0.9630 - val_loss: 0.0881 - val_accuracy: 0.9731 - 6s/epoch - 21ms/step\n",
      "Epoch 3/10\n",
      "300/300 - 6s - loss: 0.0890 - accuracy: 0.9737 - val_loss: 0.0775 - val_accuracy: 0.9751 - 6s/epoch - 21ms/step\n",
      "Epoch 4/10\n",
      "300/300 - 6s - loss: 0.0716 - accuracy: 0.9779 - val_loss: 0.0566 - val_accuracy: 0.9815 - 6s/epoch - 21ms/step\n",
      "Epoch 5/10\n",
      "300/300 - 6s - loss: 0.0586 - accuracy: 0.9824 - val_loss: 0.0618 - val_accuracy: 0.9815 - 6s/epoch - 21ms/step\n",
      "Epoch 6/10\n",
      "300/300 - 6s - loss: 0.0520 - accuracy: 0.9841 - val_loss: 0.0456 - val_accuracy: 0.9852 - 6s/epoch - 21ms/step\n",
      "Epoch 7/10\n",
      "300/300 - 6s - loss: 0.0464 - accuracy: 0.9854 - val_loss: 0.0479 - val_accuracy: 0.9840 - 6s/epoch - 21ms/step\n",
      "Epoch 8/10\n",
      "300/300 - 6s - loss: 0.0416 - accuracy: 0.9868 - val_loss: 0.0432 - val_accuracy: 0.9837 - 6s/epoch - 21ms/step\n",
      "Epoch 9/10\n",
      "300/300 - 6s - loss: 0.0373 - accuracy: 0.9886 - val_loss: 0.0425 - val_accuracy: 0.9861 - 6s/epoch - 21ms/step\n",
      "Epoch 10/10\n",
      "300/300 - 6s - loss: 0.0345 - accuracy: 0.9896 - val_loss: 0.0429 - val_accuracy: 0.9861 - 6s/epoch - 20ms/step\n",
      "Accuracy: 0.9861000180244446 \n",
      "Error: 1.389998197555542\n"
     ]
    }
   ],
   "source": [
    "# build the model\n",
    "model = convolutional_model()\n",
    "\n",
    "# fit the model\n",
    "model.fit(X_train, y_train, validation_data=(X_test, y_test), epochs=10, batch_size=200, verbose=2)\n",
    "\n",
    "# evaluate the model\n",
    "scores = model.evaluate(X_test, y_test, verbose=0)\n",
    "print(\"Accuracy: {} \\nError: {}\".format(scores[1], 100-scores[1]*100))"
   ]
  }
 ],
 "metadata": {
  "kernelspec": {
   "display_name": "Python 3 (ipykernel)",
   "language": "python",
   "name": "python3"
  },
  "language_info": {
   "codemirror_mode": {
    "name": "ipython",
    "version": 3
   },
   "file_extension": ".py",
   "mimetype": "text/x-python",
   "name": "python",
   "nbconvert_exporter": "python",
   "pygments_lexer": "ipython3",
   "version": "3.10.4"
  }
 },
 "nbformat": 4,
 "nbformat_minor": 5
}
